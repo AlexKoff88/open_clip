{
 "cells": [
  {
   "attachments": {},
   "cell_type": "markdown",
   "metadata": {},
   "source": [
    "Let's start with using a standard OpenCLIP model"
   ]
  },
  {
   "cell_type": "code",
   "execution_count": null,
   "metadata": {},
   "outputs": [],
   "source": [
    "# import packages\n",
    "import numpy as np\n",
    "import torch\n",
    "import open_clip\n",
    "from open_clip import tokenizer"
   ]
  },
  {
   "cell_type": "code",
   "execution_count": null,
   "metadata": {},
   "outputs": [],
   "source": [
    "# lets check out the example image we will be using for classification\n",
    "import matplotlib.pyplot as plt\n",
    "from skimage import data, data_dir\n",
    "import os\n",
    "from PIL import Image\n",
    "%matplotlib inline\n",
    "\n",
    "img = data.astronaut()\n",
    "\n",
    "plt.imshow(img)\n",
    "plt.axis('off')\n",
    "plt.show()"
   ]
  },
  {
   "cell_type": "code",
   "execution_count": null,
   "metadata": {},
   "outputs": [],
   "source": [
    "# install clip_benchmark from source: https://github.com/AlexKoff88/CLIP_benchmark/tree/openvino_alt\n",
    "from clip_benchmark.models import load_clip\n",
    "\n",
    "name = \"ViT-B-16-plus-240\"\n",
    "pretrained = \"laion400m_e32\"\n",
    "model_dir = \"openvino_tome\"\n",
    "model, preprocess, _  = load_clip(\"openvino_clip\", model_dir, pretrained, cache_dir=None, device=\"cpu\")\n",
    "\n",
    "\n",
    "img = Image.open(os.path.join(data_dir, 'astronaut.png')).convert(\"RGB\")\n",
    "img_preprocessed = preprocess(img).unsqueeze(0)\n",
    "\n",
    "descriptions = {\n",
    "    \"page\": \"a page of text about segmentation\",\n",
    "    \"chelsea\": \"a facial photo of a tabby cat\",\n",
    "    \"astronaut\": \"a portrait of an astronaut with the American flag\",\n",
    "    \"rocket\": \"a rocket standing on a launchpad\",\n",
    "    \"motorcycle_right\": \"a red motorcycle standing in a garage\",\n",
    "    \"camera\": \"a person looking at a camera on a tripod\",\n",
    "    \"horse\": \"a black-and-white silhouette of a horse\", \n",
    "    \"coffee\": \"a cup of coffee on a saucer\"\n",
    "}\n",
    "texts = descriptions.values()\n",
    "\n",
    "text_processed = tokenizer.tokenize(texts)"
   ]
  },
  {
   "cell_type": "code",
   "execution_count": null,
   "metadata": {},
   "outputs": [],
   "source": [
    "img_embedding, text_embedding, _ = model(img_preprocessed, text_processed)\n",
    "probs = (100 * img_embedding @ text_embedding.T).softmax(dim=-1)\n",
    "plt.bar(descriptions.keys(), probs.squeeze().detach().cpu().numpy())\n",
    "plt.xticks(rotation=45)\n",
    "plt.ylabel('Probability (%)')\n",
    "plt.show()"
   ]
  }
 ],
 "metadata": {
  "kernelspec": {
   "display_name": "py2",
   "language": "python",
   "name": "python3"
  },
  "language_info": {
   "codemirror_mode": {
    "name": "ipython",
    "version": 3
   },
   "file_extension": ".py",
   "mimetype": "text/x-python",
   "name": "python",
   "nbconvert_exporter": "python",
   "pygments_lexer": "ipython3",
   "version": "3.8.10"
  },
  "orig_nbformat": 4
 },
 "nbformat": 4,
 "nbformat_minor": 2
}
